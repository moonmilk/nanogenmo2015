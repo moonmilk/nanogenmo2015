{
 "cells": [
  {
   "cell_type": "code",
   "execution_count": 3,
   "metadata": {
    "collapsed": true
   },
   "outputs": [],
   "source": [
    "# take a look at molly's monologue\n",
    "with open('monologue.txt') as f:\n",
    "    monolines = [line.strip() for line in f.readlines()]\n",
    "    "
   ]
  },
  {
   "cell_type": "code",
   "execution_count": 5,
   "metadata": {
    "collapsed": false
   },
   "outputs": [
    {
     "data": {
      "text/plain": [
       "1692"
      ]
     },
     "execution_count": 5,
     "metadata": {},
     "output_type": "execute_result"
    }
   ],
   "source": [
    "len(monolines)"
   ]
  },
  {
   "cell_type": "code",
   "execution_count": 6,
   "metadata": {
    "collapsed": true
   },
   "outputs": [],
   "source": [
    "monowords = []\n",
    "for line in monolines:\n",
    "    words = line.split()\n",
    "    monowords += words\n",
    "    "
   ]
  },
  {
   "cell_type": "code",
   "execution_count": 7,
   "metadata": {
    "collapsed": false
   },
   "outputs": [
    {
     "data": {
      "text/plain": [
       "24195"
      ]
     },
     "execution_count": 7,
     "metadata": {},
     "output_type": "execute_result"
    }
   ],
   "source": [
    "len(monowords)"
   ]
  },
  {
   "cell_type": "code",
   "execution_count": 13,
   "metadata": {
    "collapsed": false
   },
   "outputs": [],
   "source": [
    "ands = [0 for i in range(len(monowords)/100)]\n",
    "yeses = [0 for i in range(len(monowords)/100)]\n",
    "ises = [0 for i in range(len(monowords)/100)]\n",
    "for i in range(len(monowords)/100):\n",
    "    for j in range(i*100,i*100+99):\n",
    "        if j<len(monowords):\n",
    "            w = monowords[j].lower()\n",
    "            if w=='yes':\n",
    "                yeses[i]+=1\n",
    "            if w=='and':\n",
    "                ands[i]+=1\n",
    "            if w=='i':\n",
    "                ises[i]+=1\n",
    "            \n",
    "            \n",
    "        "
   ]
  },
  {
   "cell_type": "code",
   "execution_count": 20,
   "metadata": {
    "collapsed": false
   },
   "outputs": [
    {
     "data": {
      "text/plain": [
       "'the rose in my hair like the Andalusian girls used or shall I wear a red yes and how he kissed me under the Moorish wall and I thought well as well him as another and then I asked him with my eyes to ask again yes and then he asked me would I yes to say yes my mountain flower and first I put my arms around him yes and drew him down to me so he could feel my breasts all perfume yes and his heart was going like mad and yes I said yes I will Yes.'"
      ]
     },
     "execution_count": 20,
     "metadata": {},
     "output_type": "execute_result"
    }
   ],
   "source": [
    "\" \".join(monowords[-100:])"
   ]
  },
  {
   "cell_type": "code",
   "execution_count": 22,
   "metadata": {
    "collapsed": false
   },
   "outputs": [],
   "source": [
    "from collections import defaultdict\n",
    "wordcount = defaultdict(int)\n",
    "for word in monowords:\n",
    "    wordcount[word.lower()] += 1\n",
    "    "
   ]
  },
  {
   "cell_type": "code",
   "execution_count": 150,
   "metadata": {
    "collapsed": false
   },
   "outputs": [
    {
     "data": {
      "text/plain": [
       "[('the', 1199),\n",
       " ('i', 783),\n",
       " ('and', 652),\n",
       " ('to', 580),\n",
       " ('a', 537),\n",
       " ('he', 516),\n",
       " ('of', 480),\n",
       " ('in', 414),\n",
       " ('that', 373),\n",
       " ('it', 354),\n",
       " ('was', 333),\n",
       " ('him', 304),\n",
       " ('with', 287),\n",
       " ('me', 267),\n",
       " ('on', 221),\n",
       " ('for', 219),\n",
       " ('all', 219),\n",
       " ('his', 210),\n",
       " ('like', 209),\n",
       " ('my', 194),\n",
       " ('her', 175),\n",
       " ('or', 169),\n",
       " ('out', 164),\n",
       " ('at', 146),\n",
       " ('you', 140),\n",
       " ('up', 138),\n",
       " ('they', 136),\n",
       " ('when', 129),\n",
       " ('as', 122),\n",
       " ('what', 120),\n",
       " ('if', 118),\n",
       " ('have', 113),\n",
       " ('be', 108),\n",
       " ('so', 106),\n",
       " ('she', 102),\n",
       " ('not', 100),\n",
       " ('about', 99),\n",
       " ('them', 97),\n",
       " ('then', 95),\n",
       " ('yes', 90),\n",
       " ('too', 89),\n",
       " ('there', 87),\n",
       " ('had', 86),\n",
       " ('old', 83),\n",
       " ('is', 80),\n",
       " ('after', 77),\n",
       " ('do', 72),\n",
       " ('could', 72),\n",
       " ('those', 70),\n",
       " ('get', 69)]"
      ]
     },
     "execution_count": 150,
     "metadata": {},
     "output_type": "execute_result"
    }
   ],
   "source": [
    "sorted(wordcount.items(), key=lambda pair: -pair[1])[0:50]"
   ]
  },
  {
   "cell_type": "code",
   "execution_count": 26,
   "metadata": {
    "collapsed": true
   },
   "outputs": [],
   "source": [
    "digraphs = defaultdict(int)\n",
    "for w in range(len(monowords)-1):\n",
    "    dig = monowords[w].lower() + \" \" + monowords[w+1].lower()\n",
    "    digraphs[dig] += 1\n",
    "    "
   ]
  },
  {
   "cell_type": "code",
   "execution_count": 27,
   "metadata": {
    "collapsed": false
   },
   "outputs": [
    {
     "data": {
      "text/plain": [
       "14"
      ]
     },
     "execution_count": 27,
     "metadata": {},
     "output_type": "execute_result"
    }
   ],
   "source": [
    "digraphs['yes i']"
   ]
  },
  {
   "cell_type": "code",
   "execution_count": 151,
   "metadata": {
    "collapsed": false
   },
   "outputs": [
    {
     "data": {
      "text/plain": [
       "[('in the', 127),\n",
       " ('and the', 88),\n",
       " ('he was', 85),\n",
       " ('of the', 69),\n",
       " ('when i', 68),\n",
       " ('out of', 66),\n",
       " ('i was', 66),\n",
       " ('on the', 64),\n",
       " ('with the', 64),\n",
       " ('like that', 60),\n",
       " ('to be', 59),\n",
       " ('all the', 58),\n",
       " ('i suppose', 52),\n",
       " ('of course', 48),\n",
       " ('at the', 47),\n",
       " ('it was', 46),\n",
       " ('i had', 34),\n",
       " ('for the', 33),\n",
       " ('i could', 31),\n",
       " ('with his', 31),\n",
       " ('with a', 31),\n",
       " ('a bit', 30),\n",
       " ('was a', 29),\n",
       " ('and i', 29),\n",
       " ('like a', 29),\n",
       " ('of a', 29),\n",
       " ('used to', 28),\n",
       " ('going to', 27),\n",
       " ('to get', 26),\n",
       " ('he said', 26),\n",
       " ('in his', 26),\n",
       " ('the way', 25),\n",
       " ('a woman', 23),\n",
       " ('that was', 23),\n",
       " ('to the', 23),\n",
       " ('when he', 22),\n",
       " ('if i', 22),\n",
       " ('if he', 22),\n",
       " ('i wonder', 22),\n",
       " ('of it', 21),\n",
       " ('in a', 21),\n",
       " ('have to', 21),\n",
       " ('and he', 21),\n",
       " ('to make', 21),\n",
       " ('for a', 21),\n",
       " ('i saw', 20),\n",
       " ('the same', 20),\n",
       " ('in it', 20),\n",
       " ('i dont', 20),\n",
       " ('the night', 20)]"
      ]
     },
     "execution_count": 151,
     "metadata": {},
     "output_type": "execute_result"
    }
   ],
   "source": [
    "sorted(digraphs.items(), key=lambda pair: -pair[1])[0:50]"
   ]
  },
  {
   "cell_type": "code",
   "execution_count": 30,
   "metadata": {
    "collapsed": true
   },
   "outputs": [],
   "source": [
    "# handwritten list of search terms\n",
    "with open('searchterms.txt') as f:\n",
    "    searchterms = [line.strip() for line in f.readlines()]"
   ]
  },
  {
   "cell_type": "code",
   "execution_count": 31,
   "metadata": {
    "collapsed": false
   },
   "outputs": [
    {
     "data": {
      "text/plain": [
       "151"
      ]
     },
     "execution_count": 31,
     "metadata": {},
     "output_type": "execute_result"
    }
   ],
   "source": [
    "len(searchterms)"
   ]
  },
  {
   "cell_type": "code",
   "execution_count": 33,
   "metadata": {
    "collapsed": true
   },
   "outputs": [],
   "source": [
    "from pattern.web import Twitter\n",
    "t = Twitter()"
   ]
  },
  {
   "cell_type": "code",
   "execution_count": 37,
   "metadata": {
    "collapsed": false
   },
   "outputs": [],
   "source": [
    "import time\n",
    "results = []\n",
    "for term in searchterms:\n",
    "    for tweet in t.search('\"' + term + '\"', count=500):\n",
    "        results.append(tweet.text)\n",
    "    time.sleep(1)"
   ]
  },
  {
   "cell_type": "code",
   "execution_count": 38,
   "metadata": {
    "collapsed": false
   },
   "outputs": [
    {
     "data": {
      "text/plain": [
       "10929"
      ]
     },
     "execution_count": 38,
     "metadata": {},
     "output_type": "execute_result"
    }
   ],
   "source": [
    "len(results)"
   ]
  },
  {
   "cell_type": "code",
   "execution_count": 100,
   "metadata": {
    "collapsed": false
   },
   "outputs": [],
   "source": [
    "# get rid of unicode, links, replies, badwords etc\n",
    "import json\n",
    "# badwords.json from https://github.com/dariusk/wordfilter/\n",
    "with open('badwords.json') as f:\n",
    "    badwords = json.load(f)\n",
    "def isbad(s):\n",
    "    l = s.lower()\n",
    "    for b in badwords:\n",
    "        if b in l:\n",
    "            return True\n",
    "    return False\n",
    "def isnice(s):\n",
    "    return all(ord(c) < 128 and c != '@' for c in s) and 'http' not in s\n",
    "niceresults = [result for result in results if isnice(result) and not isbad(result)]"
   ]
  },
  {
   "cell_type": "code",
   "execution_count": 101,
   "metadata": {
    "collapsed": false
   },
   "outputs": [
    {
     "data": {
      "text/plain": [
       "2351"
      ]
     },
     "execution_count": 101,
     "metadata": {},
     "output_type": "execute_result"
    }
   ],
   "source": [
    "len(niceresults)"
   ]
  },
  {
   "cell_type": "code",
   "execution_count": 102,
   "metadata": {
    "collapsed": false
   },
   "outputs": [
    {
     "data": {
      "text/plain": [
       "41442"
      ]
     },
     "execution_count": 102,
     "metadata": {},
     "output_type": "execute_result"
    }
   ],
   "source": [
    "niceresultswords = []\n",
    "for s in niceresults:\n",
    "    niceresultswords += s.split()\n",
    "    \n",
    "len(niceresultswords)"
   ]
  },
  {
   "cell_type": "code",
   "execution_count": 103,
   "metadata": {
    "collapsed": false
   },
   "outputs": [],
   "source": [
    "import re\n",
    "text = \"\"\n",
    "depunct = [re.sub(r'[^A-Za-z0-9 ]', '', line) for line in niceresults]\n",
    "\n"
   ]
  },
  {
   "cell_type": "code",
   "execution_count": 104,
   "metadata": {
    "collapsed": false
   },
   "outputs": [
    {
     "data": {
      "text/plain": [
       "[u'Bailey doesnt have a boyfriend because of that Yes dad an irrelevant trait is the reason I am single without a boyfriend correct',\n",
       " u'This year MAMA is worth watching because of the actors and actresses attendees YES',\n",
       " u'Do I wanna go to work tomorrow NO Am I going to because Im broke YES',\n",
       " u'Yes Im rooting for New England for the second week in a row because I hate Rex Ryan about as much as John Herdman',\n",
       " u'Okay no I need to block who is fancy Yes I snatched his caps because that stage name is dumb',\n",
       " u'Yes sometimes I favorite my own tweets because Im funny as fuck',\n",
       " u'I finished my paper and now I am relaxing because I have no homework for the rest of the week UHM yes maam thank god I feel good',\n",
       " u'They spelled the MSs name wrong Its LeVis Yes I know this because I stalked her on the Google ilikeyavoicetho',\n",
       " u'worst possible thing to say in a situation like this Ashers expression told him that much For the first time he saw that the 16 year old',\n",
       " u'Cuz I just need another hit youre the thing that I cant quit I wana breathe you in like a vapor I wana be the one you remember']"
      ]
     },
     "execution_count": 104,
     "metadata": {},
     "output_type": "execute_result"
    }
   ],
   "source": [
    "depunct[:10]"
   ]
  },
  {
   "cell_type": "code",
   "execution_count": 105,
   "metadata": {
    "collapsed": false
   },
   "outputs": [],
   "source": [
    "import random\n",
    "random.shuffle(depunct)\n",
    "text = \"\"\n",
    "for line in depunct:\n",
    "    if (line[0] != 'I'):\n",
    "        line = line[0].lower() + line[1:]\n",
    "    text = text + line + \" \"\n",
    "    if \"yes\" in line.lower():\n",
    "        connector = random.choice(['and','and','and','and then','and','I suppose','of course','I wonder','I thought'])\n",
    "    else:\n",
    "        connector = random.choice(['yes','and','and','and','and then','yes','and','and','yes','I suppose','of course','I wonder','I thought'])\n",
    "    text = text + connector + \" \"\n",
    "text = text + \"yes I said yes I will yes\"  "
   ]
  },
  {
   "cell_type": "code",
   "execution_count": 107,
   "metadata": {
    "collapsed": false
   },
   "outputs": [
    {
     "data": {
      "text/plain": [
       "44328"
      ]
     },
     "execution_count": 107,
     "metadata": {},
     "output_type": "execute_result"
    }
   ],
   "source": [
    "len(text.split())"
   ]
  },
  {
   "cell_type": "code",
   "execution_count": 109,
   "metadata": {
    "collapsed": false
   },
   "outputs": [],
   "source": [
    "# not long enough! add some literary repetition\n",
    "while len(text.split()) < 50000:\n",
    "    line = random.choice(depunct)\n",
    "    if (line[0] != 'I'):\n",
    "        line = line[0].lower() + line[1:]\n",
    "    if \"yes\" in line.lower():\n",
    "        connector = random.choice(['and','and','and','and then','and','I suppose','of course','I wonder','I thought'])\n",
    "    else:\n",
    "        connector = random.choice(['yes','and','and','and','and then','yes','and','and','yes','I suppose','of course','I wonder','I thought'])\n",
    "    line = line + \" \" + connector + \" \"\n",
    "    text = line + text\n",
    "\n",
    "# oh hey now i see how those double spaces got in there sometimes. Fix it.\n",
    "text = re.sub(r'  ', ' ', text)"
   ]
  },
  {
   "cell_type": "code",
   "execution_count": 152,
   "metadata": {
    "collapsed": false
   },
   "outputs": [
    {
     "name": "stdout",
     "output_type": "stream",
     "text": [
      "staying home & getting drunk while they hack up your\n",
      "neighbors stuff & spy on them is considered protecting the\n",
      "Republic & not bullying and I remember when I was in prep\n",
      "school & I told Ashley about her mother & the teacher told\n",
      "me to take off my shorts & beat me on my bottom and Im\n",
      "grateful I know what it is now tho It doesnt make it much\n",
      "easier but when I was & unmedicated & had no idea it was A\n",
      "Thing Eesh I suppose I need advice went to my girls to\n",
      "babysit her kids & I caught her & a boy kissing Its the th\n",
      "guy I pretended I didnt see What do I do yes I remember\n",
      "asking my cousin in Lebanon in July who is ISIS made of & he\n",
      "looked me square in the eyes confused & said I wish I knew\n",
      "truth and helping my niece build a resume and I asked her if\n",
      "she was good at cash handling & she said yes & typed cash\n",
      "handeling She cant spell and yesterday a kid at work was\n",
      "looking at magazines&came up to my cash &asked Whats HIV and\n",
      "whos Charlie Sheen I pretended i didnt hear and the anxiety\n",
      "I have to let her out of my sight I stop walking and sit\n",
      "down on the couch For the moment she seems to have calmed\n",
      "down and this morning when I went up all of a sudden a large\n",
      "truck stopped & chopped down part of maple tree outside when\n",
      "I got down Linda didnt kno and you have to feel for Marcus\n",
      "Paige Homecoming game for the Iowa native & all he could do\n",
      "was watch injured from the bench as his team lost and I\n",
      "forgot my earphones & couldnt decide btwn treadmill and\n",
      "biking & wasnt paying attention tv that was playing a\n",
      "catheter commercial and he is FAMILY & HOME ORIENTED he has\n",
      "a brothers tattoo he is pure and good and he wanted to COOK\n",
      "FOR TYLER because he was LOOKING THIN I thought he is FAMILY\n",
      "& HOME ORIENTED he has a brothers tattoo he is pure and good\n",
      "and he wanted to COOK FOR TYLER because he was LOOKING THIN\n",
      "and things got so out of hand that Singler ended up getting\n",
      "some run & of course he bricks a pointer badly Everybody\n",
      "else on fire except him yes Instead of disturbing us they\n",
      "should go to resolve conflicts in Syria&Iraq and give us\n",
      "room to move our country forward said Kenyatta and I asked\n",
      "to go on a movie date when I was once & was told to bring my\n",
      "brother My brother is and no questions were asked when he\n",
      "went yes I asked to go on a movie date when I was once & was\n",
      "told to bring my brother My brother is and no questions were\n",
      "asked when he went I thought he asked what I felt i wanted\n",
      "to tell him that a piece of me is corroded is unmentioned\n",
      "that he poured salt on my caucus & ate to the rine of course\n",
      "I dont think I have enough confidence to wear a full face of\n",
      "makeup cus once its off its back to just me & then what am i\n",
      "gonna hide behind and She stuck her tongue out & she was\n",
      "dancing so I said I thought your back hurt & then she yelled\n",
      "justice so I pretended I was asleep and one emo don just\n",
      "come up to me asking for directions Man was wearing fangs &\n",
      "had black fingernails I pretended I didnt speak English uno\n"
     ]
    }
   ],
   "source": [
    "import textwrap\n",
    "for line in textwrap.wrap(text,60)[0:50]:\n",
    "    print line"
   ]
  },
  {
   "cell_type": "code",
   "execution_count": 115,
   "metadata": {
    "collapsed": true
   },
   "outputs": [],
   "source": [
    "# try sorting by length to put the shortest lines at the breathless end\n",
    "bylen = sorted(niceresults,key=lambda s: -len(s))"
   ]
  },
  {
   "cell_type": "code",
   "execution_count": 116,
   "metadata": {
    "collapsed": false
   },
   "outputs": [
    {
     "data": {
      "text/plain": [
       "[u'Staying home &amp; getting drunk while they hack up your neighbors stuff &amp; spy on them is considered protecting the Republic &amp; not bullying...',\n",
       " u'I remember when I was in prep school &amp; I told Ashley about her mother &amp; the teacher told me to take off my shorts &amp; beat me on my bottom .',\n",
       " u\"I'm grateful I know what it is now tho. It doesn't make it much easier, but when I was 15 &amp; unmedicated &amp; had no idea it was A Thing... Eesh\",\n",
       " u\"I need advice. went to my girls to babysit her kids &amp; I caught her &amp; a boy kissing! It's the 4th guy! I pretended I didn't see.What do I do?\",\n",
       " u'I remember asking my cousin in Lebanon in July, who is ISIS made of?&amp; he looked me square in the eyes confused &amp; said \"I wish I knew\" #truth',\n",
       " u'Helping my niece build a resume and I asked her if she was good at cash handling? &amp; she said yes &amp; typed \"cash handeling.\" She can\\'t spell..',\n",
       " u'Yesterday a kid at work was looking at magazines&amp;came up to my cash &amp;asked \"Whats HIV and who\\'s Charlie Sheen\".. I pretended i didn\\'t hear',\n",
       " u'~&gt; the anxiety I have to let her out of my sight. I stop walking and sit down on the couch. For the moment she seems to have calmed down ~&gt;',\n",
       " u\"This morning when I went up all of a sudden a large truck stopped &amp; chopped down part of maple tree outside when I got down Linda didn't kno\",\n",
       " u'You have to feel for Marcus Paige. Homecoming game for the Iowa native, &amp; all he could do was watch injured from the bench as his team lost.']"
      ]
     },
     "execution_count": 116,
     "metadata": {},
     "output_type": "execute_result"
    }
   ],
   "source": [
    "bylen[:10]"
   ]
  },
  {
   "cell_type": "code",
   "execution_count": 136,
   "metadata": {
    "collapsed": false
   },
   "outputs": [],
   "source": [
    "# hey look at those &amps, let's not ruin them this time\n",
    "bylen = [re.sub(r'&amp;', '&', line) for line in bylen]\n",
    "# and now get rid of remaining punctuation\n",
    "# this is probably not the most efficient imaginable way to do it\n",
    "bylen = [re.sub(r\"\\'|&\\w+;\",'',line) for line in bylen]\n",
    "bylen = [re.sub(r'[^A-Za-z &]+', ' ',line) for line in bylen]\n",
    "bylen = [re.sub(r' +', ' ', line) for line in bylen]\n",
    "# decapitalize\n",
    "for i in range(len(bylen)):\n",
    "    if bylen[i][0] != 'I':\n",
    "        bylen[i] = bylen[i][0].lower() + bylen[i][1:]"
   ]
  },
  {
   "cell_type": "code",
   "execution_count": 137,
   "metadata": {
    "collapsed": false
   },
   "outputs": [
    {
     "data": {
      "text/plain": [
       "[u'staying home & getting drunk while they hack up your neighbors stuff & spy on them is considered protecting the Republic & not bullying ',\n",
       " u'I remember when I was in prep school & I told Ashley about her mother & the teacher told me to take off my shorts & beat me on my bottom ',\n",
       " u'Im grateful I know what it is now tho It doesnt make it much easier but when I was & unmedicated & had no idea it was A Thing Eesh',\n",
       " u'I need advice went to my girls to babysit her kids & I caught her & a boy kissing Its the th guy I pretended I didnt see What do I do ',\n",
       " u'I remember asking my cousin in Lebanon in July who is ISIS made of & he looked me square in the eyes confused & said I wish I knew truth',\n",
       " u'helping my niece build a resume and I asked her if she was good at cash handling & she said yes & typed cash handeling She cant spell ',\n",
       " u'yesterday a kid at work was looking at magazines&came up to my cash &asked Whats HIV and whos Charlie Sheen I pretended i didnt hear',\n",
       " u' the anxiety I have to let her out of my sight I stop walking and sit down on the couch For the moment she seems to have calmed down ',\n",
       " u'this morning when I went up all of a sudden a large truck stopped & chopped down part of maple tree outside when I got down Linda didnt kno',\n",
       " u'you have to feel for Marcus Paige Homecoming game for the Iowa native & all he could do was watch injured from the bench as his team lost ']"
      ]
     },
     "execution_count": 137,
     "metadata": {},
     "output_type": "execute_result"
    }
   ],
   "source": [
    "bylen[:10]"
   ]
  },
  {
   "cell_type": "code",
   "execution_count": 139,
   "metadata": {
    "collapsed": false
   },
   "outputs": [
    {
     "data": {
      "text/plain": [
       "[u'leave me with my sins',\n",
       " u'I hate having a cold',\n",
       " u'sHIT I FORGOT MY MCM',\n",
       " u'so i let him go na ',\n",
       " u'waiting all the time',\n",
       " u'anybody can see that',\n",
       " u'I asked to go home ',\n",
       " u'so much the better ',\n",
       " u'of course hes hurt',\n",
       " u'of course hes hurt',\n",
       " u'stop kissing my ex',\n",
       " u'so much the better',\n",
       " u'what shall I wear ',\n",
       " u'what shall I wear',\n",
       " u'oF COURSE HE DID',\n",
       " u'Is it true or no',\n",
       " u'look at her but',\n",
       " u'of course he is',\n",
       " u'It was a thing',\n",
       " u'true or no ']"
      ]
     },
     "execution_count": 139,
     "metadata": {},
     "output_type": "execute_result"
    }
   ],
   "source": [
    "bylen[-20:]"
   ]
  },
  {
   "cell_type": "code",
   "execution_count": 144,
   "metadata": {
    "collapsed": false
   },
   "outputs": [],
   "source": [
    "# ok here we go\n",
    "text = \"\"\n",
    "for line in bylen:\n",
    "    if (line[0] != 'I'):\n",
    "        line = line[0].lower() + line[1:]\n",
    "    text = text + line + \" \"\n",
    "    if \"yes\" in line.lower():\n",
    "        connector = random.choice(['and','and','and','and then','and','I suppose','of course','I wonder','I thought'])\n",
    "    else:\n",
    "        connector = random.choice(['yes','and','and','and','and then','yes','and','and','yes','I suppose','of course','I wonder','I thought'])\n",
    "    text = text + connector + \" \"\n",
    "    # throw in some duplicates for literary effect (and to boost the word count)\n",
    "    if random.random() < 0.15:\n",
    "        text = text + line + \" \"\n",
    "        if \"yes\" in line.lower():\n",
    "            connector = random.choice(['and','and','and','and then','and','I suppose','of course','I wonder','I thought'])\n",
    "        else:\n",
    "            connector = random.choice(['yes','and','and','and','and then','yes','and','and','yes','I suppose','of course','I wonder','I thought'])\n",
    "        text = text + connector + \" \"\n",
    "\n",
    "    \n",
    "text = text + \"yes I said yes I will yes\"  \n",
    "\n",
    "# ugh those double spaces\n",
    "text = re.sub(r' +', ' ', text)"
   ]
  },
  {
   "cell_type": "code",
   "execution_count": 154,
   "metadata": {
    "collapsed": false
   },
   "outputs": [
    {
     "name": "stdout",
     "output_type": "stream",
     "text": [
      "I Used To Be and danny is hurt Of Course He Is I suppose\n",
      "shall I wear civilian or not Hmmm and shall I wear civilian\n",
      "or not Hmmm and shall I wear civilian or not Hmmm yes why\n",
      "yawl die n leave me with these and am I going to regret this\n",
      "Psh nahh of course little Pack Of Lies Kara Grainger and\n",
      "little Pack Of Lies Kara Grainger I wonder auanthier the day\n",
      "before yesterday I suppose i feel like someone kissing my\n",
      "neck I thought dont know what Id do without them I thought I\n",
      "wanna get away as far as possible of course I forgot my\n",
      "orange peels in my room I wonder I forgot my orange peels in\n",
      "my room of course If I was a guy who would I be like and\n",
      "guys only want one thing true or no and why do you have to\n",
      "let her know LOL and once I start doing me its a wrap and\n",
      "sorry for all the trouble i caused I suppose thinking about\n",
      "transferring to occ yes I thinking about you all the time\n",
      "and come on get higher kissing my lips and I have a bug bite\n",
      "on my bottom lip yes it must be terrible to have a kid yes\n",
      "im better so much the better now and I think I saw a one\n",
      "eyed dog today I wonder I hate people who test my patience\n",
      "yes I hate people who suck and blow of course which shall I\n",
      "wear to thanksgiving yes shall I wear this shirt Lol okay\n",
      "and then what shall I wear tonight Hmmm I wonder nu dont\n",
      "leave me with this chump yes he knows what I did last summer\n",
      "and she knows what I did with the twix I wonder she knows\n",
      "what I did with the twix and qotd when am i going to do\n",
      "intros and I want a grill on my bottom teeth I wonder I wish\n",
      "some things were different and I wish some things were\n",
      "different yes just Wanna Go As Far As POSSIBLE I wonder I\n",
      "wonder will he let me drive it yes gay ass of course he\n",
      "followed dae yes what gear shall I wear at Loaded I wonder\n",
      "not going to get a call Press on and then shelby voted for\n",
      "herself first I suppose I hate having all these emotions and\n",
      "I wish some people would grow up I suppose I wish some\n",
      "people would grow up and then im tired of waiting all the\n",
      "time and then do you love me True or no true yes normally I\n",
      "wouldnt give a fuck yes you keep me calm I like that and\n",
      "fast replies I like that shit I wonder sit that p y on my\n",
      "bottom lip yes but of course hes rich yes so I let him in\n",
      "and bam he went and just dont get anything at all and I hate\n",
      "people who spread rumors and suppose I never ever saw you\n",
      "and would I be like eats ass and shall I wear a dark lip\n",
      "tonight and then he knows what i did last summer yes he\n",
      "knows what I did last summer and thats not going to get it\n",
      "done and not going to get my charger and I wore that before\n",
      "it was cool I suppose ugh i hate having trust issues I\n",
      "wonder i gave my hand for you to hold of course i gave my\n",
      "hand for you to hold and really mad i forgot my charger and\n",
      "really mad i forgot my charger and I hate people who lag or\n",
      "flake and then I can see its not meant to be yes It wouldnt\n",
      "have been my fault I suppose now what shall I wear to work\n",
      "yes he didnt remember oh fuck it and then he didnt remember\n",
      "oh fuck it I wonder seems peaceful under my nose and then\n",
      "seems peaceful under my nose and smh man this is all his\n",
      "fault yes I think i saw my past in you and I think i saw my\n",
      "past in you yes shall I wear a snapback today I suppose Its\n",
      "all been a pack of lies and Its all been a pack of lies and\n",
      "I hate having strict parents yes and the day before\n",
      "yesterday and thinking about food again and and of course\n",
      "hes hurt yes i hate people who hate oasis yes what shall I\n",
      "wear on Monday I wonder dont know who he talking to and then\n",
      "cray i like that cant trust I thought I hate having a stuffy\n",
      "nose and I love kissing my baby feet and omg himchan just\n",
      "denying it and I forgot my trousers Cody and Im sad I forgot\n",
      "my mtn dew I suppose i hate people who have toes yes oh and\n",
      "of course he is hurt yes hOLY NO WONDER THEY GO WILD and Yes\n",
      "because shes dead and flirting with a brick wall I suppose\n",
      "eVERYONE IS KISSING MY SON yes shit was done out of anger\n",
      "yes I wouldnt put it past you and I wouldnt put it past you\n",
      "I wonder what shall I wear Saturday and but I have to let\n",
      "her go yes once i start i wont stop yes natalie voted for\n",
      "herself of course you know I like that shit and Im worth all\n",
      "the trouble I thought Im worth all the trouble yes why is\n",
      "she denying it yes & of course hes hurt yes have I offended\n",
      "you today I thought suppose I never come back and I wanted\n",
      "to shout Arrgh and I have to let her know it and I have to\n",
      "let her know it I thought I hate having a big butt and I\n",
      "hate having a big butt I suppose I Hate Having A Attitude\n",
      "and and its all his fault I thought I think I saw a mouse\n",
      "and I think I saw a mouse and not the way I used to be and\n",
      "then lol making it so awkward I wonder I never knew how to\n",
      "jerk and I never knew how to jerk yes what shall I wear\n",
      "today and what shall I wear today yes I hate having wet hair\n",
      "yes of course hes hurt and and of course hes hurt and hAVE I\n",
      "OFFENDED YOU BOY I wonder I hate people who front I wonder\n",
      "suppose I never met you and suppose I never met you yes\n",
      "anybody can see me Frfr and anybody can see me Frfr I\n",
      "suppose he was awfully pleased and what shall I wear today\n",
      "and then I hate people who rush I wonder i wonder will he do\n",
      "it of course anybody can see that and uGH I WANTED TO SHOUT\n",
      "I thought leave me with my sins I wonder I hate having a\n",
      "cold yes sHIT I FORGOT MY MCM and so i let him go na and\n",
      "then waiting all the time and anybody can see that and I\n",
      "asked to go home yes so much the better I wonder so much the\n",
      "better and of course hes hurt and of course hes hurt and of\n",
      "course hes hurt of course stop kissing my ex yes so much the\n",
      "better and so much the better and what shall I wear and what\n",
      "shall I wear and oF COURSE HE DID I thought Is it true or no\n",
      "and look at her but and look at her but and of course he is\n",
      "and of course he is and It was a thing and then true or no\n",
      "and then yes I said yes I will yes\n"
     ]
    }
   ],
   "source": [
    "import textwrap\n",
    "for line in textwrap.wrap(text,60)[-100:]:\n",
    "    print line"
   ]
  },
  {
   "cell_type": "code",
   "execution_count": 149,
   "metadata": {
    "collapsed": false
   },
   "outputs": [],
   "source": [
    "# that's a wrap! \n",
    "# html header to include some styling from last year\n",
    "with open('header.html') as h:\n",
    "    header = h.read()\n",
    "with open('mollysfeed.html', 'w') as f:\n",
    "    f.write(header + textwrap.fill(text,60))\n",
    "    f.close()"
   ]
  },
  {
   "cell_type": "code",
   "execution_count": 155,
   "metadata": {
    "collapsed": false
   },
   "outputs": [
    {
     "data": {
      "text/plain": [
       "51629"
      ]
     },
     "execution_count": 155,
     "metadata": {},
     "output_type": "execute_result"
    }
   ],
   "source": [
    "len(text.split())"
   ]
  },
  {
   "cell_type": "code",
   "execution_count": null,
   "metadata": {
    "collapsed": true
   },
   "outputs": [],
   "source": [
    "# yup it's long enough"
   ]
  }
 ],
 "metadata": {
  "kernelspec": {
   "display_name": "Python 2",
   "language": "python",
   "name": "python2"
  },
  "language_info": {
   "codemirror_mode": {
    "name": "ipython",
    "version": 2
   },
   "file_extension": ".py",
   "mimetype": "text/x-python",
   "name": "python",
   "nbconvert_exporter": "python",
   "pygments_lexer": "ipython2",
   "version": "2.7.10"
  }
 },
 "nbformat": 4,
 "nbformat_minor": 0
}
