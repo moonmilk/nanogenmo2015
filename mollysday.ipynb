{
 "cells": [
  {
   "cell_type": "code",
   "execution_count": 156,
   "metadata": {
    "collapsed": true
   },
   "outputs": [],
   "source": [
    "# take a look at molly's monologue\n",
    "with open('monologue.txt') as f:\n",
    "    monolines = [line.strip() for line in f.readlines()]\n",
    "    "
   ]
  },
  {
   "cell_type": "code",
   "execution_count": 157,
   "metadata": {
    "collapsed": false
   },
   "outputs": [
    {
     "data": {
      "text/plain": [
       "1692"
      ]
     },
     "execution_count": 157,
     "metadata": {},
     "output_type": "execute_result"
    }
   ],
   "source": [
    "len(monolines)"
   ]
  },
  {
   "cell_type": "code",
   "execution_count": 158,
   "metadata": {
    "collapsed": true
   },
   "outputs": [],
   "source": [
    "monowords = []\n",
    "for line in monolines:\n",
    "    words = line.split()\n",
    "    monowords += words\n",
    "    "
   ]
  },
  {
   "cell_type": "code",
   "execution_count": 159,
   "metadata": {
    "collapsed": false
   },
   "outputs": [
    {
     "data": {
      "text/plain": [
       "24195"
      ]
     },
     "execution_count": 159,
     "metadata": {},
     "output_type": "execute_result"
    }
   ],
   "source": [
    "len(monowords)"
   ]
  },
  {
   "cell_type": "code",
   "execution_count": 160,
   "metadata": {
    "collapsed": false
   },
   "outputs": [],
   "source": [
    "ands = [0 for i in range(len(monowords)/100)]\n",
    "yeses = [0 for i in range(len(monowords)/100)]\n",
    "ises = [0 for i in range(len(monowords)/100)]\n",
    "for i in range(len(monowords)/100):\n",
    "    for j in range(i*100,i*100+99):\n",
    "        if j<len(monowords):\n",
    "            w = monowords[j].lower()\n",
    "            if w=='yes':\n",
    "                yeses[i]+=1\n",
    "            if w=='and':\n",
    "                ands[i]+=1\n",
    "            if w=='i':\n",
    "                ises[i]+=1\n",
    "            \n",
    "            \n",
    "        "
   ]
  },
  {
   "cell_type": "code",
   "execution_count": 161,
   "metadata": {
    "collapsed": false
   },
   "outputs": [
    {
     "data": {
      "text/plain": [
       "'the rose in my hair like the Andalusian girls used or shall I wear a red yes and how he kissed me under the Moorish wall and I thought well as well him as another and then I asked him with my eyes to ask again yes and then he asked me would I yes to say yes my mountain flower and first I put my arms around him yes and drew him down to me so he could feel my breasts all perfume yes and his heart was going like mad and yes I said yes I will Yes.'"
      ]
     },
     "execution_count": 161,
     "metadata": {},
     "output_type": "execute_result"
    }
   ],
   "source": [
    "\" \".join(monowords[-100:])"
   ]
  },
  {
   "cell_type": "code",
   "execution_count": 162,
   "metadata": {
    "collapsed": false
   },
   "outputs": [],
   "source": [
    "from collections import defaultdict\n",
    "wordcount = defaultdict(int)\n",
    "for word in monowords:\n",
    "    wordcount[word.lower()] += 1\n",
    "    "
   ]
  },
  {
   "cell_type": "code",
   "execution_count": 163,
   "metadata": {
    "collapsed": false
   },
   "outputs": [
    {
     "data": {
      "text/plain": [
       "[('the', 1199),\n",
       " ('i', 783),\n",
       " ('and', 652),\n",
       " ('to', 580),\n",
       " ('a', 537),\n",
       " ('he', 516),\n",
       " ('of', 480),\n",
       " ('in', 414),\n",
       " ('that', 373),\n",
       " ('it', 354),\n",
       " ('was', 333),\n",
       " ('him', 304),\n",
       " ('with', 287),\n",
       " ('me', 267),\n",
       " ('on', 221),\n",
       " ('for', 219),\n",
       " ('all', 219),\n",
       " ('his', 210),\n",
       " ('like', 209),\n",
       " ('my', 194),\n",
       " ('her', 175),\n",
       " ('or', 169),\n",
       " ('out', 164),\n",
       " ('at', 146),\n",
       " ('you', 140),\n",
       " ('up', 138),\n",
       " ('they', 136),\n",
       " ('when', 129),\n",
       " ('as', 122),\n",
       " ('what', 120),\n",
       " ('if', 118),\n",
       " ('have', 113),\n",
       " ('be', 108),\n",
       " ('so', 106),\n",
       " ('she', 102),\n",
       " ('not', 100),\n",
       " ('about', 99),\n",
       " ('them', 97),\n",
       " ('then', 95),\n",
       " ('yes', 90),\n",
       " ('too', 89),\n",
       " ('there', 87),\n",
       " ('had', 86),\n",
       " ('old', 83),\n",
       " ('is', 80),\n",
       " ('after', 77),\n",
       " ('do', 72),\n",
       " ('could', 72),\n",
       " ('those', 70),\n",
       " ('get', 69)]"
      ]
     },
     "execution_count": 163,
     "metadata": {},
     "output_type": "execute_result"
    }
   ],
   "source": [
    "sorted(wordcount.items(), key=lambda pair: -pair[1])[0:50]"
   ]
  },
  {
   "cell_type": "code",
   "execution_count": 164,
   "metadata": {
    "collapsed": true
   },
   "outputs": [],
   "source": [
    "digraphs = defaultdict(int)\n",
    "for w in range(len(monowords)-1):\n",
    "    dig = monowords[w].lower() + \" \" + monowords[w+1].lower()\n",
    "    digraphs[dig] += 1\n",
    "    "
   ]
  },
  {
   "cell_type": "code",
   "execution_count": 165,
   "metadata": {
    "collapsed": false
   },
   "outputs": [
    {
     "data": {
      "text/plain": [
       "14"
      ]
     },
     "execution_count": 165,
     "metadata": {},
     "output_type": "execute_result"
    }
   ],
   "source": [
    "digraphs['yes i']"
   ]
  },
  {
   "cell_type": "code",
   "execution_count": 166,
   "metadata": {
    "collapsed": false
   },
   "outputs": [
    {
     "data": {
      "text/plain": [
       "[('in the', 127),\n",
       " ('and the', 88),\n",
       " ('he was', 85),\n",
       " ('of the', 69),\n",
       " ('when i', 68),\n",
       " ('out of', 66),\n",
       " ('i was', 66),\n",
       " ('on the', 64),\n",
       " ('with the', 64),\n",
       " ('like that', 60),\n",
       " ('to be', 59),\n",
       " ('all the', 58),\n",
       " ('i suppose', 52),\n",
       " ('of course', 48),\n",
       " ('at the', 47),\n",
       " ('it was', 46),\n",
       " ('i had', 34),\n",
       " ('for the', 33),\n",
       " ('i could', 31),\n",
       " ('with his', 31),\n",
       " ('with a', 31),\n",
       " ('a bit', 30),\n",
       " ('was a', 29),\n",
       " ('and i', 29),\n",
       " ('like a', 29),\n",
       " ('of a', 29),\n",
       " ('used to', 28),\n",
       " ('going to', 27),\n",
       " ('to get', 26),\n",
       " ('he said', 26),\n",
       " ('in his', 26),\n",
       " ('the way', 25),\n",
       " ('a woman', 23),\n",
       " ('that was', 23),\n",
       " ('to the', 23),\n",
       " ('when he', 22),\n",
       " ('if i', 22),\n",
       " ('if he', 22),\n",
       " ('i wonder', 22),\n",
       " ('of it', 21),\n",
       " ('in a', 21),\n",
       " ('have to', 21),\n",
       " ('and he', 21),\n",
       " ('to make', 21),\n",
       " ('for a', 21),\n",
       " ('i saw', 20),\n",
       " ('the same', 20),\n",
       " ('in it', 20),\n",
       " ('i dont', 20),\n",
       " ('the night', 20)]"
      ]
     },
     "execution_count": 166,
     "metadata": {},
     "output_type": "execute_result"
    }
   ],
   "source": [
    "sorted(digraphs.items(), key=lambda pair: -pair[1])[0:50]"
   ]
  },
  {
   "cell_type": "code",
   "execution_count": 167,
   "metadata": {
    "collapsed": true
   },
   "outputs": [],
   "source": [
    "# handwritten list of search terms\n",
    "with open('searchterms.txt') as f:\n",
    "    searchterms = [line.strip() for line in f.readlines()]"
   ]
  },
  {
   "cell_type": "code",
   "execution_count": 168,
   "metadata": {
    "collapsed": false
   },
   "outputs": [
    {
     "data": {
      "text/plain": [
       "151"
      ]
     },
     "execution_count": 168,
     "metadata": {},
     "output_type": "execute_result"
    }
   ],
   "source": [
    "len(searchterms)"
   ]
  },
  {
   "cell_type": "code",
   "execution_count": 169,
   "metadata": {
    "collapsed": true
   },
   "outputs": [],
   "source": [
    "from pattern.web import Twitter\n",
    "t = Twitter()"
   ]
  },
  {
   "cell_type": "code",
   "execution_count": 172,
   "metadata": {
    "collapsed": false
   },
   "outputs": [
    {
     "ename": "SearchEngineLimitError",
     "evalue": "",
     "output_type": "error",
     "traceback": [
      "\u001b[0;31m---------------------------------------------------------------------------\u001b[0m",
      "\u001b[0;31mSearchEngineLimitError\u001b[0m                    Traceback (most recent call last)",
      "\u001b[0;32m<ipython-input-172-df355cb3f3cc>\u001b[0m in \u001b[0;36m<module>\u001b[0;34m()\u001b[0m\n\u001b[1;32m      4\u001b[0m     \u001b[0mi\u001b[0m \u001b[0;34m=\u001b[0m \u001b[0mNone\u001b[0m\u001b[0;34m\u001b[0m\u001b[0m\n\u001b[1;32m      5\u001b[0m     \u001b[0;32mfor\u001b[0m \u001b[0mredo\u001b[0m \u001b[0;32min\u001b[0m \u001b[0mrange\u001b[0m\u001b[0;34m(\u001b[0m\u001b[0;36m3\u001b[0m\u001b[0;34m)\u001b[0m\u001b[0;34m:\u001b[0m\u001b[0;34m\u001b[0m\u001b[0m\n\u001b[0;32m----> 6\u001b[0;31m         \u001b[0;32mfor\u001b[0m \u001b[0mtweet\u001b[0m \u001b[0;32min\u001b[0m \u001b[0mt\u001b[0m\u001b[0;34m.\u001b[0m\u001b[0msearch\u001b[0m\u001b[0;34m(\u001b[0m\u001b[0;34m'\"'\u001b[0m \u001b[0;34m+\u001b[0m \u001b[0mterm\u001b[0m \u001b[0;34m+\u001b[0m \u001b[0;34m'\"'\u001b[0m\u001b[0;34m,\u001b[0m \u001b[0mcount\u001b[0m\u001b[0;34m=\u001b[0m\u001b[0;36m500\u001b[0m\u001b[0;34m,\u001b[0m \u001b[0mstart\u001b[0m\u001b[0;34m=\u001b[0m\u001b[0mi\u001b[0m\u001b[0;34m)\u001b[0m\u001b[0;34m:\u001b[0m\u001b[0;34m\u001b[0m\u001b[0m\n\u001b[0m\u001b[1;32m      7\u001b[0m             \u001b[0mresults\u001b[0m\u001b[0;34m.\u001b[0m\u001b[0mappend\u001b[0m\u001b[0;34m(\u001b[0m\u001b[0mtweet\u001b[0m\u001b[0;34m.\u001b[0m\u001b[0mtext\u001b[0m\u001b[0;34m)\u001b[0m\u001b[0;34m\u001b[0m\u001b[0m\n\u001b[1;32m      8\u001b[0m             \u001b[0mi\u001b[0m \u001b[0;34m=\u001b[0m \u001b[0mtweet\u001b[0m\u001b[0;34m.\u001b[0m\u001b[0mid\u001b[0m\u001b[0;34m\u001b[0m\u001b[0m\n",
      "\u001b[0;32m/Users/ranjit/anaconda/lib/python2.7/site-packages/pattern/web/__init__.pyc\u001b[0m in \u001b[0;36msearch\u001b[0;34m(self, query, type, start, count, sort, size, cached, **kwargs)\u001b[0m\n\u001b[1;32m   1505\u001b[0m             \u001b[0;32mraise\u001b[0m \u001b[0mSearchEngineLimitError\u001b[0m\u001b[0;34m\u001b[0m\u001b[0m\n\u001b[1;32m   1506\u001b[0m         \u001b[0;32mexcept\u001b[0m \u001b[0mHTTP429TooMayRequests\u001b[0m\u001b[0;34m:\u001b[0m\u001b[0;34m\u001b[0m\u001b[0m\n\u001b[0;32m-> 1507\u001b[0;31m             \u001b[0;32mraise\u001b[0m \u001b[0mSearchEngineLimitError\u001b[0m\u001b[0;34m\u001b[0m\u001b[0m\n\u001b[0m\u001b[1;32m   1508\u001b[0m         \u001b[0mdata\u001b[0m \u001b[0;34m=\u001b[0m \u001b[0mjson\u001b[0m\u001b[0;34m.\u001b[0m\u001b[0mloads\u001b[0m\u001b[0;34m(\u001b[0m\u001b[0mdata\u001b[0m\u001b[0;34m)\u001b[0m\u001b[0;34m\u001b[0m\u001b[0m\n\u001b[1;32m   1509\u001b[0m         \u001b[0mresults\u001b[0m \u001b[0;34m=\u001b[0m \u001b[0mResults\u001b[0m\u001b[0;34m(\u001b[0m\u001b[0mTWITTER\u001b[0m\u001b[0;34m,\u001b[0m \u001b[0mquery\u001b[0m\u001b[0;34m,\u001b[0m \u001b[0mtype\u001b[0m\u001b[0;34m)\u001b[0m\u001b[0;34m\u001b[0m\u001b[0m\n",
      "\u001b[0;31mSearchEngineLimitError\u001b[0m: "
     ]
    }
   ],
   "source": [
    "import time\n",
    "results = []\n",
    "for term in searchterms:\n",
    "    i = None\n",
    "    for redo in range(3):\n",
    "        for tweet in t.search('\"' + term + '\"', count=500, start=i):\n",
    "            results.append(tweet.text)\n",
    "            i = tweet.id\n",
    "        time.sleep(1)"
   ]
  },
  {
   "cell_type": "code",
   "execution_count": 173,
   "metadata": {
    "collapsed": false
   },
   "outputs": [
    {
     "data": {
      "text/plain": [
       "15463"
      ]
     },
     "execution_count": 173,
     "metadata": {},
     "output_type": "execute_result"
    }
   ],
   "source": [
    "len(results)"
   ]
  },
  {
   "cell_type": "code",
   "execution_count": 174,
   "metadata": {
    "collapsed": false
   },
   "outputs": [],
   "source": [
    "# get rid of unicode, links, replies, badwords etc\n",
    "import json\n",
    "# badwords.json from https://github.com/dariusk/wordfilter/\n",
    "with open('badwords.json') as f:\n",
    "    badwords = json.load(f)\n",
    "def isbad(s):\n",
    "    l = s.lower()\n",
    "    for b in badwords:\n",
    "        if b in l:\n",
    "            return True\n",
    "    return False\n",
    "def isnice(s):\n",
    "    return all(ord(c) < 128 and c != '@' for c in s) and 'http' not in s\n",
    "niceresults = [result for result in results if isnice(result) and not isbad(result)]"
   ]
  },
  {
   "cell_type": "code",
   "execution_count": 175,
   "metadata": {
    "collapsed": false
   },
   "outputs": [
    {
     "data": {
      "text/plain": [
       "3198"
      ]
     },
     "execution_count": 175,
     "metadata": {},
     "output_type": "execute_result"
    }
   ],
   "source": [
    "len(niceresults)"
   ]
  },
  {
   "cell_type": "code",
   "execution_count": 176,
   "metadata": {
    "collapsed": false
   },
   "outputs": [
    {
     "data": {
      "text/plain": [
       "55808"
      ]
     },
     "execution_count": 176,
     "metadata": {},
     "output_type": "execute_result"
    }
   ],
   "source": [
    "niceresultswords = []\n",
    "for s in niceresults:\n",
    "    niceresultswords += s.split()\n",
    "    \n",
    "len(niceresultswords)"
   ]
  },
  {
   "cell_type": "code",
   "execution_count": 177,
   "metadata": {
    "collapsed": true
   },
   "outputs": [],
   "source": [
    "# try sorting by length to put the shortest lines at the breathless end\n",
    "bylen = sorted(niceresults,key=lambda s: -len(s))"
   ]
  },
  {
   "cell_type": "code",
   "execution_count": 178,
   "metadata": {
    "collapsed": false
   },
   "outputs": [
    {
     "data": {
      "text/plain": [
       "[u'&gt;&gt;&gt; five years ago and still didn\\'t finish. God it\\'s so nasty. I remember buying it I pretended I was looking for \"cooking brandy\" cuz &gt;&gt;&gt;',\n",
       " u'I hate when Im reading &amp; then start thinking about stuff &amp; before I know it Im at the end of the page &amp; have no memory of what I just read.',\n",
       " u'i went thru the car wash &amp;when i looked back i saw all the soap &amp;water just pouring into my trunk &amp;thats how i found out my trunk is broken',\n",
       " u'I STILL REMEMBER WHEN I WENT OTRA WITH MADS &amp; WE WERE SORTING OUT GLOW STICKS &amp; ONE SNAPPED IN MY MOUTH &amp; MY SPIT WAS BLUE THE WHOLE NIGHT',\n",
       " u'Staying home &amp; getting drunk while they hack up your neighbors stuff &amp; spy on them is considered protecting the Republic &amp; not bullying...',\n",
       " u'I remember when I was in prep school &amp; I told Ashley about her mother &amp; the teacher told me to take off my shorts &amp; beat me on my bottom .',\n",
       " u\"I also imagine them as black and white charcoal drawings. Or I stare trying to imagine who they are &amp; what they like &amp; hate... I'm creepy...\",\n",
       " u\"I'm grateful I know what it is now tho. It doesn't make it much easier, but when I was 15 &amp; unmedicated &amp; had no idea it was A Thing... Eesh\",\n",
       " u\"I need advice. went to my girls to babysit her kids &amp; I caught her &amp; a boy kissing! It's the 4th guy! I pretended I didn't see.What do I do?\",\n",
       " u'I remember asking my cousin in Lebanon in July, who is ISIS made of?&amp; he looked me square in the eyes confused &amp; said \"I wish I knew\" #truth']"
      ]
     },
     "execution_count": 178,
     "metadata": {},
     "output_type": "execute_result"
    }
   ],
   "source": [
    "bylen[:10]"
   ]
  },
  {
   "cell_type": "code",
   "execution_count": 179,
   "metadata": {
    "collapsed": false
   },
   "outputs": [],
   "source": [
    "# hey look at those &amps, let's not ruin them this time\n",
    "bylen = [re.sub(r'&amp;', '&', line) for line in bylen]\n",
    "# and now get rid of remaining punctuation\n",
    "# this is probably not the most efficient imaginable way to do it\n",
    "bylen = [re.sub(r\"\\'|&\\w+;\",'',line) for line in bylen]\n",
    "bylen = [re.sub(r'[^A-Za-z &]+', ' ',line) for line in bylen]\n",
    "bylen = [re.sub(r' +', ' ', line) for line in bylen]\n",
    "# decapitalize\n",
    "for i in range(len(bylen)):\n",
    "    # decapitalize initial unless whole tweet is uppercase (sample 2nd and 3rd chars)\n",
    "    if bylen[i][0] != 'I' and not (bylen[i][1].isupper() or bylen[i][2].isupper()):\n",
    "        bylen[i] = bylen[i][0].lower() + bylen[i][1:]"
   ]
  },
  {
   "cell_type": "code",
   "execution_count": 180,
   "metadata": {
    "collapsed": false
   },
   "outputs": [
    {
     "data": {
      "text/plain": [
       "[u' five years ago and still didnt finish God its so nasty I remember buying it I pretended I was looking for cooking brandy cuz ',\n",
       " u'I hate when Im reading & then start thinking about stuff & before I know it Im at the end of the page & have no memory of what I just read ',\n",
       " u'i went thru the car wash &when i looked back i saw all the soap &water just pouring into my trunk &thats how i found out my trunk is broken',\n",
       " u'I STILL REMEMBER WHEN I WENT OTRA WITH MADS & WE WERE SORTING OUT GLOW STICKS & ONE SNAPPED IN MY MOUTH & MY SPIT WAS BLUE THE WHOLE NIGHT',\n",
       " u'staying home & getting drunk while they hack up your neighbors stuff & spy on them is considered protecting the Republic & not bullying ',\n",
       " u'I remember when I was in prep school & I told Ashley about her mother & the teacher told me to take off my shorts & beat me on my bottom ',\n",
       " u'I also imagine them as black and white charcoal drawings Or I stare trying to imagine who they are & what they like & hate Im creepy ',\n",
       " u'Im grateful I know what it is now tho It doesnt make it much easier but when I was & unmedicated & had no idea it was A Thing Eesh',\n",
       " u'I need advice went to my girls to babysit her kids & I caught her & a boy kissing Its the th guy I pretended I didnt see What do I do ',\n",
       " u'I remember asking my cousin in Lebanon in July who is ISIS made of & he looked me square in the eyes confused & said I wish I knew truth']"
      ]
     },
     "execution_count": 180,
     "metadata": {},
     "output_type": "execute_result"
    }
   ],
   "source": [
    "bylen[:10]"
   ]
  },
  {
   "cell_type": "code",
   "execution_count": 181,
   "metadata": {
    "collapsed": false
   },
   "outputs": [
    {
     "data": {
      "text/plain": [
       "[u'she used to be mine',\n",
       " u'I thing like that ',\n",
       " u'so much the better',\n",
       " u'I forgot my pledge',\n",
       " u'I forgot my jacket',\n",
       " u'yui look at her ',\n",
       " u'look at her butt',\n",
       " u'SHE SAID YES OMG',\n",
       " u'OMG SHE SAID YES',\n",
       " u'It was a thing',\n",
       " u'no thank you ',\n",
       " u' she said yes ',\n",
       " u'she said yes ',\n",
       " u'she said YES ',\n",
       " u'no thank you',\n",
       " u'no thank you',\n",
       " u'no thank you',\n",
       " u'SHE SAID YES',\n",
       " u'she said yes',\n",
       " u'SHE SAID YES']"
      ]
     },
     "execution_count": 181,
     "metadata": {},
     "output_type": "execute_result"
    }
   ],
   "source": [
    "bylen[-20:]"
   ]
  },
  {
   "cell_type": "code",
   "execution_count": 191,
   "metadata": {
    "collapsed": false
   },
   "outputs": [],
   "source": [
    "# ok here we go\n",
    "text = bylen[0]\n",
    "for line in bylen[1:]:\n",
    "    if \"yes\" in line.lower():\n",
    "        connector = random.choice(['and','and','and','and then','and','I suppose','of course','I wonder','I thought'])\n",
    "    else:\n",
    "        connector = random.choice(['yes','and','and','and','and then','yes','and','and','yes','I suppose','of course','I wonder','I thought'])\n",
    "    text = text + \" \" + connector + \" \" + line\n",
    "    \n",
    "\n",
    "\n",
    "# this batch of texts ended with SHE SAID YES she said yes SHE SAID YES so don't add the obvious tail\n",
    "# text = text + \"yes I said yes I will yes\"  \n",
    "\n",
    "# ugh those double spaces\n",
    "text = re.sub(r' +', ' ', text)"
   ]
  },
  {
   "cell_type": "code",
   "execution_count": 192,
   "metadata": {
    "collapsed": false
   },
   "outputs": [
    {
     "name": "stdout",
     "output_type": "stream",
     "text": [
      "I thought the future aint what is used to be and I wanna get\n",
      "away as far as possible and I forgot my key in my room AGAIN\n",
      "yes sorry for all the trouble i caused and Im thinking about\n",
      "deleting my IG and then AAAAAAAAAAAA NO THANK YOU GOOD BYE\n",
      "and I have a bug bite on my bottom lip yes be careful about\n",
      "what you wish for I suppose it must be terrible to have a\n",
      "kid I wonder I wish some nights lasted forever and then I\n",
      "wish some nights lasted forever and I wish some nights\n",
      "lasted forever and I wish some nights lasted forever yes I\n",
      "wish some nights lasted forever I suppose im better so much\n",
      "the better now and i forgot my chanhun stage happened yes\n",
      "OMFG I FORGOT MY TENNIS SHOES SHIT I thought i forgot my\n",
      "password for my fanacc and odd I forgot my cloning software\n",
      "I wonder lol I forgot my work shoes at home and then I\n",
      "forgot my mother aint work today and timing is a funny thing\n",
      "like that and then wanted her in it but she hates me yes I\n",
      "hate having things kept from me and not once or twice or\n",
      "times I suppose I want a grill on my bottom teeth yes yall\n",
      "moms must be terrible cooks and I wish some things still\n",
      "felt new and nike ID free runs used to be heat and then just\n",
      "Wanna Go As Far As POSSIBLE I suppose look at her look at\n",
      "her ooh ooh I suppose look at her eyes not her chest I\n",
      "wonder I like that pitch look to Coppet yes didnt know it\n",
      "was a thing in LA I thought IM SO SICK I HATE HAVING THE FLU\n",
      "yes Ive been thinking about forever and her life did a under\n",
      "my nose of course I need braces on my bottom teeth and i\n",
      "thought the feeling was mutual and they beef used to be lit\n",
      "too lol yes I forgot my portal password fuck and cant\n",
      "Pretending to ignore it yes she wants to be telling me shit\n",
      "and then fast replies I like that shit and I wore that J\n",
      "Cole release OUT I suppose Im trying to imagine right now\n",
      "yes man i hate having to hide stuff yes I hate having\n",
      "divorced parents I wonder I hate having to wait on people\n",
      "and I hate having anxiety and I hate having responsibilities\n",
      "I suppose cant stop thinking about Luke of course outsiders\n",
      "I can do without them yes sit that p y on my bottom lip I\n",
      "suppose be careful about the and I wish some nights never\n",
      "ended and then UMJI I THOUGHT THE SAME TBH yes and I\n",
      "pretended i was sleeping I wonder fuck the fuck off I like\n",
      "that and then I wore that before it was cool and then ugh i\n",
      "hate having feelings bro and i hate having a lazy eye ahhhh\n",
      "I suppose i hate having a period kill me and cant stop\n",
      "thinking about you I wonder i gave my hand for you to hold\n",
      "and and I pretended I was sleeping yes AND I PRETENDED I WAS\n",
      "SLEEPING and half the person I used to be and SHE SAID YES\n",
      "of course I forgot my robe at Witt AGAIN and lips so good i\n",
      "forgot my name and I forgot my tripod at home I suppose I\n",
      "like that this is happening yes flirting with a kiss of\n",
      "death and I hate having to balance shit and thinking about\n",
      "quitting track yes I hate thinking about college and seems\n",
      "peaceful under my nose of course smh man this is all his\n",
      "fault and lips so good i forgot my name and I forgot my\n",
      "beanie at home and I forgot my shit but Im back I wonder yes\n",
      "because you are perfect and then for a small thing like that\n",
      "and Its all been a pack of lies I suppose Its all been a\n",
      "pack of lies and i hate having a stuffed nose and I hate\n",
      "having nothing to do and I hate having a stuffy nose and I\n",
      "hate having small boobs and and the day before yesterday I\n",
      "suppose I miss how things used to be and that laugh used to\n",
      "be my fav and I forgot my Netflix password yes I wanted her\n",
      "to come see me of course oh my gosh look at her butt I\n",
      "thought I wore that jacket yestaday I thought I hate having\n",
      "bad knees and then I hate having nothing to do and I hate\n",
      "having bad shoulders of course I hate having depression I\n",
      "wonder thinking about uuu uh na na and then I try not\n",
      "thinking about it yes I FORGOT MY FUCKING PAJAMAS and then I\n",
      "FORGOT MY EYRBROW PENSICL and flirting with a brick wall and\n",
      "then I hate having thick thighs and I hate having chapped\n",
      "lips and I hate having anger issues yes nibble on my bottom\n",
      "lip I wonder makayla voted for herself and then i wanted her\n",
      "to marry him and fast replies I like that I thought Im worth\n",
      "all the trouble I thought Im worth all the trouble and i\n",
      "hate thinking about you yes they are kissing my leg of\n",
      "course mainly on my bottom teeth of course ROSE GOLD ON MY\n",
      "BOTTOM yes I used to be an asshole I wonder livid I forgot\n",
      "my charger and I hate having feelings and I hate having\n",
      "short hair and fml I hate having a cold yes getting on to do\n",
      "freerun I wonder neck kissing My weakness yes and its all\n",
      "his fault yes CP did all he could do yes i pretended i didnt\n",
      "know and then used to be not anymore and avoid as far as\n",
      "possible yes lips so good i forgot my yes I hate having dark\n",
      "hair I thought I hate having a brother and getting on to a\n",
      "rhythm of course you used to be my hero and I like that\n",
      "money baby and still it was a thing I suppose I hate having\n",
      "big lips and I hate having a uterus of course becomes no\n",
      "thank you and I forgot my headphones and I forgot my\n",
      "medication yes I hate having anxiety and I hate having to\n",
      "work and then suck on my bottom lip and suck on my bottom\n",
      "lip and suck on my bottom lip and I Used To Be Ugly Bro I\n",
      "wonder yaw i wanted her bad and I hate having no bud yes I\n",
      "hate having a job I wonder It must be terrible and I forgot\n",
      "my name of course but I forgot my meds of course right under\n",
      "my nose and so much the better I suppose she used to be mine\n",
      "of course I thing like that I suppose so much the better yes\n",
      "I forgot my pledge yes I forgot my jacket and then yui look\n",
      "at her and look at her butt and then SHE SAID YES OMG I\n",
      "suppose OMG SHE SAID YES and It was a thing I wonder no\n",
      "thank you and she said yes and she said yes I suppose she\n",
      "said YES yes no thank you and no thank you and no thank you\n",
      "and SHE SAID YES and she said yes and then SHE SAID YES\n"
     ]
    }
   ],
   "source": [
    "import textwrap\n",
    "for line in textwrap.wrap(text,60)[-100:]:\n",
    "    print line"
   ]
  },
  {
   "cell_type": "code",
   "execution_count": 193,
   "metadata": {
    "collapsed": false
   },
   "outputs": [],
   "source": [
    "# that's a wrap! \n",
    "# html header to include some styling from last year\n",
    "with open('header.html') as h:\n",
    "    header = h.read()\n",
    "with open('mollysfeed.html', 'w') as f:\n",
    "    f.write(header + textwrap.fill(text,60))\n",
    "    f.close()"
   ]
  },
  {
   "cell_type": "code",
   "execution_count": 194,
   "metadata": {
    "collapsed": false
   },
   "outputs": [
    {
     "data": {
      "text/plain": [
       "59980"
      ]
     },
     "execution_count": 194,
     "metadata": {},
     "output_type": "execute_result"
    }
   ],
   "source": [
    "len(text.split())"
   ]
  },
  {
   "cell_type": "code",
   "execution_count": 195,
   "metadata": {
    "collapsed": true
   },
   "outputs": [],
   "source": [
    "# yup it's long enough"
   ]
  },
  {
   "cell_type": "code",
   "execution_count": null,
   "metadata": {
    "collapsed": true
   },
   "outputs": [],
   "source": []
  }
 ],
 "metadata": {
  "kernelspec": {
   "display_name": "Python 2",
   "language": "python",
   "name": "python2"
  },
  "language_info": {
   "codemirror_mode": {
    "name": "ipython",
    "version": 2
   },
   "file_extension": ".py",
   "mimetype": "text/x-python",
   "name": "python",
   "nbconvert_exporter": "python",
   "pygments_lexer": "ipython2",
   "version": "2.7.10"
  }
 },
 "nbformat": 4,
 "nbformat_minor": 0
}
